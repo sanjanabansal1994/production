{
 "cells": [
  {
   "cell_type": "code",
   "execution_count": 1,
   "metadata": {},
   "outputs": [],
   "source": [
    "%load_ext dotenv\n",
    "%dotenv \n",
    "import os\n",
    "import sys\n",
    "sys.path.append(os.getenv('SRC_DIR'))\n",
    "from logger import get_logger\n",
    "_logs = get_logger(__name__)"
   ]
  },
  {
   "cell_type": "code",
   "execution_count": 2,
   "metadata": {},
   "outputs": [],
   "source": [
    "import dask.dataframe as dd\n",
    "import pandas as pd\n",
    "import numpy as np\n",
    "import os\n",
    "from glob import glob"
   ]
  },
  {
   "cell_type": "code",
   "execution_count": 3,
   "metadata": {},
   "outputs": [],
   "source": [
    "ft_dir = os.getenv(\"FEATURES_DATA\")\n",
    "ft_glob = glob(ft_dir+'/*.parquet')\n",
    "df = dd.read_parquet(ft_glob).compute().reset_index()"
   ]
  },
  {
   "cell_type": "markdown",
   "metadata": {},
   "source": [
    "# Sampling in Python"
   ]
  },
  {
   "cell_type": "markdown",
   "metadata": {},
   "source": [
    "+ There are different packages that allow sampling.\n",
    "+ A practical approach is to use pandas/Dask sampling methods."
   ]
  },
  {
   "cell_type": "markdown",
   "metadata": {},
   "source": [
    "## Random Sampling\n",
    "\n",
    "+ Sample n rows from a dataframe with [`df.sample()`](https://pandas.pydata.org/docs/reference/api/pandas.DataFrame.sample.html).\n",
    "\n",
    "```\n",
    "DataFrame.sample(\n",
    "    n=None, frac=None, replace=False, weights=None, \n",
    "    random_state=None, axis=None, ignore_index=False\n",
    "    )\n",
    "```"
   ]
  },
  {
   "cell_type": "code",
   "execution_count": 4,
   "metadata": {},
   "outputs": [
    {
     "data": {
      "text/html": [
       "<div>\n",
       "<style scoped>\n",
       "    .dataframe tbody tr th:only-of-type {\n",
       "        vertical-align: middle;\n",
       "    }\n",
       "\n",
       "    .dataframe tbody tr th {\n",
       "        vertical-align: top;\n",
       "    }\n",
       "\n",
       "    .dataframe thead th {\n",
       "        text-align: right;\n",
       "    }\n",
       "</style>\n",
       "<table border=\"1\" class=\"dataframe\">\n",
       "  <thead>\n",
       "    <tr style=\"text-align: right;\">\n",
       "      <th>Price</th>\n",
       "      <th>Ticker</th>\n",
       "      <th>Date</th>\n",
       "      <th>Adj Close</th>\n",
       "      <th>Close</th>\n",
       "      <th>High</th>\n",
       "      <th>Low</th>\n",
       "      <th>Open</th>\n",
       "      <th>Volume</th>\n",
       "      <th>Year</th>\n",
       "      <th>Close_lag_1</th>\n",
       "    </tr>\n",
       "  </thead>\n",
       "  <tbody>\n",
       "    <tr>\n",
       "      <th>1516671</th>\n",
       "      <td>ABT</td>\n",
       "      <td>2014-03-19 00:00:00+00:00</td>\n",
       "      <td>31.901258</td>\n",
       "      <td>39.450001</td>\n",
       "      <td>40.220001</td>\n",
       "      <td>39.320000</td>\n",
       "      <td>39.730000</td>\n",
       "      <td>8679100.0</td>\n",
       "      <td>2014</td>\n",
       "      <td>39.730000</td>\n",
       "    </tr>\n",
       "    <tr>\n",
       "      <th>977501</th>\n",
       "      <td>PCG</td>\n",
       "      <td>2024-05-13 00:00:00+00:00</td>\n",
       "      <td>17.828596</td>\n",
       "      <td>17.870001</td>\n",
       "      <td>17.980000</td>\n",
       "      <td>17.740000</td>\n",
       "      <td>17.879999</td>\n",
       "      <td>13072900.0</td>\n",
       "      <td>2024</td>\n",
       "      <td>17.830000</td>\n",
       "    </tr>\n",
       "    <tr>\n",
       "      <th>2259294</th>\n",
       "      <td>JBL</td>\n",
       "      <td>2008-07-25 00:00:00+00:00</td>\n",
       "      <td>12.595364</td>\n",
       "      <td>15.720000</td>\n",
       "      <td>16.450001</td>\n",
       "      <td>15.240000</td>\n",
       "      <td>16.450001</td>\n",
       "      <td>5738800.0</td>\n",
       "      <td>2008</td>\n",
       "      <td>16.240000</td>\n",
       "    </tr>\n",
       "    <tr>\n",
       "      <th>2946826</th>\n",
       "      <td>NVR</td>\n",
       "      <td>2008-10-20 00:00:00+00:00</td>\n",
       "      <td>553.010010</td>\n",
       "      <td>553.010010</td>\n",
       "      <td>560.049988</td>\n",
       "      <td>512.150024</td>\n",
       "      <td>512.150024</td>\n",
       "      <td>156800.0</td>\n",
       "      <td>2008</td>\n",
       "      <td>510.600006</td>\n",
       "    </tr>\n",
       "    <tr>\n",
       "      <th>895962</th>\n",
       "      <td>TSLA</td>\n",
       "      <td>2020-08-13 00:00:00+00:00</td>\n",
       "      <td>108.066666</td>\n",
       "      <td>108.066666</td>\n",
       "      <td>110.078667</td>\n",
       "      <td>104.484001</td>\n",
       "      <td>107.400002</td>\n",
       "      <td>306379500.0</td>\n",
       "      <td>2020</td>\n",
       "      <td>103.650665</td>\n",
       "    </tr>\n",
       "  </tbody>\n",
       "</table>\n",
       "</div>"
      ],
      "text/plain": [
       "Price   Ticker                      Date   Adj Close       Close        High  \\\n",
       "1516671    ABT 2014-03-19 00:00:00+00:00   31.901258   39.450001   40.220001   \n",
       "977501     PCG 2024-05-13 00:00:00+00:00   17.828596   17.870001   17.980000   \n",
       "2259294    JBL 2008-07-25 00:00:00+00:00   12.595364   15.720000   16.450001   \n",
       "2946826    NVR 2008-10-20 00:00:00+00:00  553.010010  553.010010  560.049988   \n",
       "895962    TSLA 2020-08-13 00:00:00+00:00  108.066666  108.066666  110.078667   \n",
       "\n",
       "Price           Low        Open       Volume  Year  Close_lag_1  \n",
       "1516671   39.320000   39.730000    8679100.0  2014    39.730000  \n",
       "977501    17.740000   17.879999   13072900.0  2024    17.830000  \n",
       "2259294   15.240000   16.450001    5738800.0  2008    16.240000  \n",
       "2946826  512.150024  512.150024     156800.0  2008   510.600006  \n",
       "895962   104.484001  107.400002  306379500.0  2020   103.650665  "
      ]
     },
     "execution_count": 4,
     "metadata": {},
     "output_type": "execute_result"
    }
   ],
   "source": [
    "df.sample(n = 5)"
   ]
  },
  {
   "cell_type": "code",
   "execution_count": 5,
   "metadata": {},
   "outputs": [
    {
     "data": {
      "text/plain": [
       "['OXY', 'TXN', 'PCG', 'CBRE', 'ROK', 'AMT', 'D', 'YUM', 'PWR']"
      ]
     },
     "execution_count": 5,
     "metadata": {},
     "output_type": "execute_result"
    }
   ],
   "source": [
    "# select_tickers = df['ticker'].unique().tolist()[0:9]\n",
    "select_tickers = ['OXY', 'TXN', 'PCG', 'CBRE', 'ROK', 'AMT', 'D', 'YUM', 'PWR']\n",
    "select_tickers"
   ]
  },
  {
   "cell_type": "code",
   "execution_count": 7,
   "metadata": {},
   "outputs": [
    {
     "data": {
      "text/plain": [
       "((5683, 10), (56826, 10))"
      ]
     },
     "execution_count": 7,
     "metadata": {},
     "output_type": "execute_result"
    }
   ],
   "source": [
    "idx = df['Ticker'].isin(select_tickers)\n",
    "small_df = df[idx]\n",
    "simple_sample_dt = small_df.sample(frac = 0.1)\n",
    "simple_sample_dt.shape, small_df.shape"
   ]
  },
  {
   "cell_type": "markdown",
   "metadata": {},
   "source": [
    "Look at the distribution of tickers."
   ]
  },
  {
   "cell_type": "code",
   "execution_count": 8,
   "metadata": {},
   "outputs": [
    {
     "data": {
      "text/plain": [
       "<Axes: xlabel='Ticker'>"
      ]
     },
     "execution_count": 8,
     "metadata": {},
     "output_type": "execute_result"
    },
    {
     "data": {
      "image/png": "[encoded data removed]",
      "text/plain": [
       "<Figure size 640x480 with 1 Axes>"
      ]
     },
     "metadata": {},
     "output_type": "display_data"
    }
   ],
   "source": [
    "small_df['Ticker'].value_counts().plot(kind='bar')"
   ]
  },
  {
   "cell_type": "code",
   "execution_count": 9,
   "metadata": {},
   "outputs": [
    {
     "data": {
      "text/plain": [
       "<Axes: xlabel='Ticker'>"
      ]
     },
     "execution_count": 9,
     "metadata": {},
     "output_type": "execute_result"
    },
    {
     "data": {
      "image/png": "[encoded data removed]",
      "text/plain": [
       "<Figure size 640x480 with 1 Axes>"
      ]
     },
     "metadata": {},
     "output_type": "display_data"
    }
   ],
   "source": [
    "simple_sample_dt['Ticker'].value_counts().plot(kind='bar')"
   ]
  },
  {
   "cell_type": "markdown",
   "metadata": {},
   "source": [
    "## Stratified Sampling\n",
    "\n",
    "+ Use `groupby()` and `.sample()` for stratified sampling."
   ]
  },
  {
   "cell_type": "code",
   "execution_count": 11,
   "metadata": {},
   "outputs": [
    {
     "data": {
      "text/plain": [
       "<Axes: xlabel='Ticker'>"
      ]
     },
     "execution_count": 11,
     "metadata": {},
     "output_type": "execute_result"
    },
    {
     "data": {
      "image/png": "[encoded data removed]",
      "text/plain": [
       "<Figure size 640x480 with 1 Axes>"
      ]
     },
     "metadata": {},
     "output_type": "display_data"
    }
   ],
   "source": [
    "strat_sample_dt = small_df.groupby(['Ticker']).sample(frac = 0.1)\n",
    "strat_sample_dt['Ticker'].value_counts().plot(kind='bar')"
   ]
  },
  {
   "cell_type": "markdown",
   "metadata": {},
   "source": [
    "# Sampling in Dask\n",
    "\n",
    "+ Stratified sampling in `dask` can be achieved with `groupby().apply()` and a lambda function."
   ]
  },
  {
   "cell_type": "code",
   "execution_count": 12,
   "metadata": {},
   "outputs": [
    {
     "name": "stderr",
     "output_type": "stream",
     "text": [
      "/var/folders/gv/r771h3zn7cz5dqxf_d4wg09c0000gn/T/ipykernel_9516/2388710987.py:4: UserWarning: `meta` is not specified, inferred from partial data. Please provide `meta` if the result is unexpected.\n",
      "  Before: .apply(func)\n",
      "  After:  .apply(func, meta={'x': 'f8', 'y': 'f8'}) for dataframe result\n",
      "  or:     .apply(func, meta=('x', 'f8'))            for series result\n",
      "  .apply(lambda x: x.sample(frac = 0.1))\n"
     ]
    },
    {
     "data": {
      "text/plain": [
       "<Axes: xlabel='Ticker'>"
      ]
     },
     "execution_count": 12,
     "metadata": {},
     "output_type": "execute_result"
    },
    {
     "data": {
      "image/png": "[encoded data removed]",
      "text/plain": [
       "<Figure size 640x480 with 1 Axes>"
      ]
     },
     "metadata": {},
     "output_type": "display_data"
    }
   ],
   "source": [
    "dd_dt = dd.read_parquet(ft_glob)\n",
    "strat_sample_dd_dt = (dd_dt\n",
    "                      .groupby('Ticker', group_keys=False)\n",
    "                      .apply(lambda x: x.sample(frac = 0.1))\n",
    "                      .compute()\n",
    "                      .reset_index())\n",
    "strat_sample_dd_dt[strat_sample_dd_dt['Ticker'].isin(select_tickers)]['Ticker'].value_counts().plot(kind='bar')"
   ]
  },
  {
   "cell_type": "code",
   "execution_count": null,
   "metadata": {},
   "outputs": [],
   "source": []
  }
 ],
 "metadata": {
  "kernelspec": {
   "display_name": "dsi_participant",
   "language": "python",
   "name": "python3"
  },
  "language_info": {
   "codemirror_mode": {
    "name": "ipython",
    "version": 3
   },
   "file_extension": ".py",
   "mimetype": "text/x-python",
   "name": "python",
   "nbconvert_exporter": "python",
   "pygments_lexer": "ipython3",
   "version": "3.12.6"
  }
 },
 "nbformat": 4,
 "nbformat_minor": 2
}
